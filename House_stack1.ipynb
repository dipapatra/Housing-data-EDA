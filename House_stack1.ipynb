{
  "nbformat": 4,
  "nbformat_minor": 0,
  "metadata": {
    "colab": {
      "provenance": []
    },
    "kernelspec": {
      "name": "python3",
      "display_name": "Python 3"
    },
    "language_info": {
      "name": "python"
    }
  },
  "cells": [
    {
      "cell_type": "markdown",
      "source": [
        "# House Price Prediction Stack Model using KNN classification and Muti Variable Linear regression"
      ],
      "metadata": {
        "id": "dqN8Vvv2bRnJ"
      }
    },
    {
      "cell_type": "code",
      "execution_count": 1,
      "metadata": {
        "id": "3y2NrPlE0UeQ"
      },
      "outputs": [],
      "source": [
        "import numpy as np\n",
        "import pandas as pd\n",
        "\n",
        "import seaborn as sns\n",
        "import matplotlib.pyplot as plt\n",
        "\n",
        "from geopy import Nominatim"
      ]
    },
    {
      "cell_type": "code",
      "source": [
        "\n",
        "from IPython.display import display"
      ],
      "metadata": {
        "id": "fDjxxbdG0lEC"
      },
      "execution_count": 2,
      "outputs": []
    },
    {
      "cell_type": "code",
      "source": [
        "df = pd.read_csv(\"/content/housing_data_assgn_3_with_category.csv\")"
      ],
      "metadata": {
        "id": "jMHMhVuQfTKL"
      },
      "execution_count": 3,
      "outputs": []
    },
    {
      "cell_type": "code",
      "source": [
        "df.head()"
      ],
      "metadata": {
        "colab": {
          "base_uri": "https://localhost:8080/",
          "height": 270
        },
        "id": "MnNDTaam1Zhf",
        "outputId": "a4a95099-59ad-416e-edf7-fbb809295c3e"
      },
      "execution_count": 4,
      "outputs": [
        {
          "output_type": "execute_result",
          "data": {
            "text/plain": [
              "   sold_price  zipcode   longitude   latitude  lot_acres     taxes  \\\n",
              "0   5300000.0    85637 -110.378200  31.356362    2154.00   5272.00   \n",
              "1   4200000.0    85646 -111.045371  31.594213    1707.00  10422.36   \n",
              "2   4500000.0    85646 -111.035925  31.645878     636.67   8418.58   \n",
              "3   3411450.0    85750 -110.813768  32.285162       3.21  15393.00   \n",
              "4   3250000.0    85718 -110.910593  32.339090       1.67  27802.84   \n",
              "\n",
              "   year_built  sqrt_ft  garage  fireplaces    HOA  toal_kit_features  \\\n",
              "0        1941  10500.0     0.0         6.0    0.0                  4   \n",
              "1        1997   7300.0     0.0         5.0    0.0                  2   \n",
              "2        1930   9019.0     4.0         4.0    0.0                  4   \n",
              "3        1995   6396.0     3.0         5.0   55.0                  5   \n",
              "4        1999   6842.0     3.0         5.0  422.0                  5   \n",
              "\n",
              "   toal_flooring  rooms  house_age  sold_price_scaled  price_per_sf  cat  \n",
              "0              2   23.0         82           1.000000    504.761905    5  \n",
              "1              2    4.0         26           0.785617    575.342466    4  \n",
              "2              3   12.0         93           0.844085    498.946668    6  \n",
              "3              2   10.0         28           0.631933    533.372420    5  \n",
              "4              3    7.0         24           0.600468    475.007308    6  "
            ],
            "text/html": [
              "\n",
              "  <div id=\"df-a4757601-e255-405a-8d41-f4b82fc4dd1e\">\n",
              "    <div class=\"colab-df-container\">\n",
              "      <div>\n",
              "<style scoped>\n",
              "    .dataframe tbody tr th:only-of-type {\n",
              "        vertical-align: middle;\n",
              "    }\n",
              "\n",
              "    .dataframe tbody tr th {\n",
              "        vertical-align: top;\n",
              "    }\n",
              "\n",
              "    .dataframe thead th {\n",
              "        text-align: right;\n",
              "    }\n",
              "</style>\n",
              "<table border=\"1\" class=\"dataframe\">\n",
              "  <thead>\n",
              "    <tr style=\"text-align: right;\">\n",
              "      <th></th>\n",
              "      <th>sold_price</th>\n",
              "      <th>zipcode</th>\n",
              "      <th>longitude</th>\n",
              "      <th>latitude</th>\n",
              "      <th>lot_acres</th>\n",
              "      <th>taxes</th>\n",
              "      <th>year_built</th>\n",
              "      <th>sqrt_ft</th>\n",
              "      <th>garage</th>\n",
              "      <th>fireplaces</th>\n",
              "      <th>HOA</th>\n",
              "      <th>toal_kit_features</th>\n",
              "      <th>toal_flooring</th>\n",
              "      <th>rooms</th>\n",
              "      <th>house_age</th>\n",
              "      <th>sold_price_scaled</th>\n",
              "      <th>price_per_sf</th>\n",
              "      <th>cat</th>\n",
              "    </tr>\n",
              "  </thead>\n",
              "  <tbody>\n",
              "    <tr>\n",
              "      <th>0</th>\n",
              "      <td>5300000.0</td>\n",
              "      <td>85637</td>\n",
              "      <td>-110.378200</td>\n",
              "      <td>31.356362</td>\n",
              "      <td>2154.00</td>\n",
              "      <td>5272.00</td>\n",
              "      <td>1941</td>\n",
              "      <td>10500.0</td>\n",
              "      <td>0.0</td>\n",
              "      <td>6.0</td>\n",
              "      <td>0.0</td>\n",
              "      <td>4</td>\n",
              "      <td>2</td>\n",
              "      <td>23.0</td>\n",
              "      <td>82</td>\n",
              "      <td>1.000000</td>\n",
              "      <td>504.761905</td>\n",
              "      <td>5</td>\n",
              "    </tr>\n",
              "    <tr>\n",
              "      <th>1</th>\n",
              "      <td>4200000.0</td>\n",
              "      <td>85646</td>\n",
              "      <td>-111.045371</td>\n",
              "      <td>31.594213</td>\n",
              "      <td>1707.00</td>\n",
              "      <td>10422.36</td>\n",
              "      <td>1997</td>\n",
              "      <td>7300.0</td>\n",
              "      <td>0.0</td>\n",
              "      <td>5.0</td>\n",
              "      <td>0.0</td>\n",
              "      <td>2</td>\n",
              "      <td>2</td>\n",
              "      <td>4.0</td>\n",
              "      <td>26</td>\n",
              "      <td>0.785617</td>\n",
              "      <td>575.342466</td>\n",
              "      <td>4</td>\n",
              "    </tr>\n",
              "    <tr>\n",
              "      <th>2</th>\n",
              "      <td>4500000.0</td>\n",
              "      <td>85646</td>\n",
              "      <td>-111.035925</td>\n",
              "      <td>31.645878</td>\n",
              "      <td>636.67</td>\n",
              "      <td>8418.58</td>\n",
              "      <td>1930</td>\n",
              "      <td>9019.0</td>\n",
              "      <td>4.0</td>\n",
              "      <td>4.0</td>\n",
              "      <td>0.0</td>\n",
              "      <td>4</td>\n",
              "      <td>3</td>\n",
              "      <td>12.0</td>\n",
              "      <td>93</td>\n",
              "      <td>0.844085</td>\n",
              "      <td>498.946668</td>\n",
              "      <td>6</td>\n",
              "    </tr>\n",
              "    <tr>\n",
              "      <th>3</th>\n",
              "      <td>3411450.0</td>\n",
              "      <td>85750</td>\n",
              "      <td>-110.813768</td>\n",
              "      <td>32.285162</td>\n",
              "      <td>3.21</td>\n",
              "      <td>15393.00</td>\n",
              "      <td>1995</td>\n",
              "      <td>6396.0</td>\n",
              "      <td>3.0</td>\n",
              "      <td>5.0</td>\n",
              "      <td>55.0</td>\n",
              "      <td>5</td>\n",
              "      <td>2</td>\n",
              "      <td>10.0</td>\n",
              "      <td>28</td>\n",
              "      <td>0.631933</td>\n",
              "      <td>533.372420</td>\n",
              "      <td>5</td>\n",
              "    </tr>\n",
              "    <tr>\n",
              "      <th>4</th>\n",
              "      <td>3250000.0</td>\n",
              "      <td>85718</td>\n",
              "      <td>-110.910593</td>\n",
              "      <td>32.339090</td>\n",
              "      <td>1.67</td>\n",
              "      <td>27802.84</td>\n",
              "      <td>1999</td>\n",
              "      <td>6842.0</td>\n",
              "      <td>3.0</td>\n",
              "      <td>5.0</td>\n",
              "      <td>422.0</td>\n",
              "      <td>5</td>\n",
              "      <td>3</td>\n",
              "      <td>7.0</td>\n",
              "      <td>24</td>\n",
              "      <td>0.600468</td>\n",
              "      <td>475.007308</td>\n",
              "      <td>6</td>\n",
              "    </tr>\n",
              "  </tbody>\n",
              "</table>\n",
              "</div>\n",
              "      <button class=\"colab-df-convert\" onclick=\"convertToInteractive('df-a4757601-e255-405a-8d41-f4b82fc4dd1e')\"\n",
              "              title=\"Convert this dataframe to an interactive table.\"\n",
              "              style=\"display:none;\">\n",
              "        \n",
              "  <svg xmlns=\"http://www.w3.org/2000/svg\" height=\"24px\"viewBox=\"0 0 24 24\"\n",
              "       width=\"24px\">\n",
              "    <path d=\"M0 0h24v24H0V0z\" fill=\"none\"/>\n",
              "    <path d=\"M18.56 5.44l.94 2.06.94-2.06 2.06-.94-2.06-.94-.94-2.06-.94 2.06-2.06.94zm-11 1L8.5 8.5l.94-2.06 2.06-.94-2.06-.94L8.5 2.5l-.94 2.06-2.06.94zm10 10l.94 2.06.94-2.06 2.06-.94-2.06-.94-.94-2.06-.94 2.06-2.06.94z\"/><path d=\"M17.41 7.96l-1.37-1.37c-.4-.4-.92-.59-1.43-.59-.52 0-1.04.2-1.43.59L10.3 9.45l-7.72 7.72c-.78.78-.78 2.05 0 2.83L4 21.41c.39.39.9.59 1.41.59.51 0 1.02-.2 1.41-.59l7.78-7.78 2.81-2.81c.8-.78.8-2.07 0-2.86zM5.41 20L4 18.59l7.72-7.72 1.47 1.35L5.41 20z\"/>\n",
              "  </svg>\n",
              "      </button>\n",
              "      \n",
              "  <style>\n",
              "    .colab-df-container {\n",
              "      display:flex;\n",
              "      flex-wrap:wrap;\n",
              "      gap: 12px;\n",
              "    }\n",
              "\n",
              "    .colab-df-convert {\n",
              "      background-color: #E8F0FE;\n",
              "      border: none;\n",
              "      border-radius: 50%;\n",
              "      cursor: pointer;\n",
              "      display: none;\n",
              "      fill: #1967D2;\n",
              "      height: 32px;\n",
              "      padding: 0 0 0 0;\n",
              "      width: 32px;\n",
              "    }\n",
              "\n",
              "    .colab-df-convert:hover {\n",
              "      background-color: #E2EBFA;\n",
              "      box-shadow: 0px 1px 2px rgba(60, 64, 67, 0.3), 0px 1px 3px 1px rgba(60, 64, 67, 0.15);\n",
              "      fill: #174EA6;\n",
              "    }\n",
              "\n",
              "    [theme=dark] .colab-df-convert {\n",
              "      background-color: #3B4455;\n",
              "      fill: #D2E3FC;\n",
              "    }\n",
              "\n",
              "    [theme=dark] .colab-df-convert:hover {\n",
              "      background-color: #434B5C;\n",
              "      box-shadow: 0px 1px 3px 1px rgba(0, 0, 0, 0.15);\n",
              "      filter: drop-shadow(0px 1px 2px rgba(0, 0, 0, 0.3));\n",
              "      fill: #FFFFFF;\n",
              "    }\n",
              "  </style>\n",
              "\n",
              "      <script>\n",
              "        const buttonEl =\n",
              "          document.querySelector('#df-a4757601-e255-405a-8d41-f4b82fc4dd1e button.colab-df-convert');\n",
              "        buttonEl.style.display =\n",
              "          google.colab.kernel.accessAllowed ? 'block' : 'none';\n",
              "\n",
              "        async function convertToInteractive(key) {\n",
              "          const element = document.querySelector('#df-a4757601-e255-405a-8d41-f4b82fc4dd1e');\n",
              "          const dataTable =\n",
              "            await google.colab.kernel.invokeFunction('convertToInteractive',\n",
              "                                                     [key], {});\n",
              "          if (!dataTable) return;\n",
              "\n",
              "          const docLinkHtml = 'Like what you see? Visit the ' +\n",
              "            '<a target=\"_blank\" href=https://colab.research.google.com/notebooks/data_table.ipynb>data table notebook</a>'\n",
              "            + ' to learn more about interactive tables.';\n",
              "          element.innerHTML = '';\n",
              "          dataTable['output_type'] = 'display_data';\n",
              "          await google.colab.output.renderOutput(dataTable, element);\n",
              "          const docLink = document.createElement('div');\n",
              "          docLink.innerHTML = docLinkHtml;\n",
              "          element.appendChild(docLink);\n",
              "        }\n",
              "      </script>\n",
              "    </div>\n",
              "  </div>\n",
              "  "
            ]
          },
          "metadata": {},
          "execution_count": 4
        }
      ]
    },
    {
      "cell_type": "code",
      "source": [
        "df.shape"
      ],
      "metadata": {
        "colab": {
          "base_uri": "https://localhost:8080/"
        },
        "id": "gDKMsDYK1i_n",
        "outputId": "0f5041b2-1711-443c-86fc-8ff472c66b21"
      },
      "execution_count": 5,
      "outputs": [
        {
          "output_type": "execute_result",
          "data": {
            "text/plain": [
              "(4905, 18)"
            ]
          },
          "metadata": {},
          "execution_count": 5
        }
      ]
    },
    {
      "cell_type": "code",
      "source": [
        "import random\n",
        "\n",
        "def train_test_split(data, test_ratio):\n",
        "    # Shuffle the data randomly\n",
        "    data = data.sample(frac=1).reset_index(drop=True)\n",
        "\n",
        "    # Calculate the index to split the data into train and test sets\n",
        "    split_index = int(len(data) * (1 - test_ratio))\n",
        "\n",
        "    # Split the data into train and test sets\n",
        "    train_data = data.iloc[:split_index]\n",
        "    test_data = data.iloc[split_index:]\n",
        "\n",
        "    return train_data, test_data\n",
        "\n"
      ],
      "metadata": {
        "id": "MrTEl0JK1qEC"
      },
      "execution_count": 6,
      "outputs": []
    },
    {
      "cell_type": "code",
      "source": [
        "train_set, test_set = train_test_split(data = df, test_ratio = 0.2)"
      ],
      "metadata": {
        "id": "sD8Z9izH2pwj"
      },
      "execution_count": 7,
      "outputs": []
    },
    {
      "cell_type": "code",
      "source": [
        "train_set.head()"
      ],
      "metadata": {
        "colab": {
          "base_uri": "https://localhost:8080/",
          "height": 270
        },
        "id": "xcoIU7-p3GSy",
        "outputId": "b34a3cd1-df71-4f6c-c2ca-f5685387b6e2"
      },
      "execution_count": 8,
      "outputs": [
        {
          "output_type": "execute_result",
          "data": {
            "text/plain": [
              "   sold_price  zipcode   longitude   latitude  lot_acres     taxes  \\\n",
              "0    625000.0    85750 -110.843825  32.324219       0.25   5288.00   \n",
              "1   1900000.0    85718 -110.928038  32.339499       4.21  15042.50   \n",
              "2    535000.0    85749 -110.771050  32.273170       1.86   4490.13   \n",
              "3    680000.0    85718 -110.917178  32.312064       1.00   5750.54   \n",
              "4    800000.0    85718 -110.920262  32.297649       1.02   6556.00   \n",
              "\n",
              "   year_built  sqrt_ft  garage  fireplaces     HOA  toal_kit_features  \\\n",
              "0        1996   2936.0     2.0         1.0  122.00                  5   \n",
              "1        1981   5138.0     5.0         4.0   83.33                 10   \n",
              "2        1999   3614.0     3.0         2.0   58.00                  4   \n",
              "3        1994   2665.0     3.0         1.0  195.00                 11   \n",
              "4        1994   3415.0     3.0         2.0  133.00                  5   \n",
              "\n",
              "   toal_flooring  rooms  house_age  sold_price_scaled  price_per_sf  cat  \n",
              "0              2    7.0         27           0.088872    212.874659   11  \n",
              "1              2    7.0         42           0.337361    369.793694    8  \n",
              "2              2    7.0         24           0.071331    148.035418   13  \n",
              "3              1    7.0         29           0.099591    255.159475   10  \n",
              "4              1    8.0         29           0.122978    234.260615   11  "
            ],
            "text/html": [
              "\n",
              "  <div id=\"df-55c99ea4-795b-46c5-a241-4e7e615cfc6e\">\n",
              "    <div class=\"colab-df-container\">\n",
              "      <div>\n",
              "<style scoped>\n",
              "    .dataframe tbody tr th:only-of-type {\n",
              "        vertical-align: middle;\n",
              "    }\n",
              "\n",
              "    .dataframe tbody tr th {\n",
              "        vertical-align: top;\n",
              "    }\n",
              "\n",
              "    .dataframe thead th {\n",
              "        text-align: right;\n",
              "    }\n",
              "</style>\n",
              "<table border=\"1\" class=\"dataframe\">\n",
              "  <thead>\n",
              "    <tr style=\"text-align: right;\">\n",
              "      <th></th>\n",
              "      <th>sold_price</th>\n",
              "      <th>zipcode</th>\n",
              "      <th>longitude</th>\n",
              "      <th>latitude</th>\n",
              "      <th>lot_acres</th>\n",
              "      <th>taxes</th>\n",
              "      <th>year_built</th>\n",
              "      <th>sqrt_ft</th>\n",
              "      <th>garage</th>\n",
              "      <th>fireplaces</th>\n",
              "      <th>HOA</th>\n",
              "      <th>toal_kit_features</th>\n",
              "      <th>toal_flooring</th>\n",
              "      <th>rooms</th>\n",
              "      <th>house_age</th>\n",
              "      <th>sold_price_scaled</th>\n",
              "      <th>price_per_sf</th>\n",
              "      <th>cat</th>\n",
              "    </tr>\n",
              "  </thead>\n",
              "  <tbody>\n",
              "    <tr>\n",
              "      <th>0</th>\n",
              "      <td>625000.0</td>\n",
              "      <td>85750</td>\n",
              "      <td>-110.843825</td>\n",
              "      <td>32.324219</td>\n",
              "      <td>0.25</td>\n",
              "      <td>5288.00</td>\n",
              "      <td>1996</td>\n",
              "      <td>2936.0</td>\n",
              "      <td>2.0</td>\n",
              "      <td>1.0</td>\n",
              "      <td>122.00</td>\n",
              "      <td>5</td>\n",
              "      <td>2</td>\n",
              "      <td>7.0</td>\n",
              "      <td>27</td>\n",
              "      <td>0.088872</td>\n",
              "      <td>212.874659</td>\n",
              "      <td>11</td>\n",
              "    </tr>\n",
              "    <tr>\n",
              "      <th>1</th>\n",
              "      <td>1900000.0</td>\n",
              "      <td>85718</td>\n",
              "      <td>-110.928038</td>\n",
              "      <td>32.339499</td>\n",
              "      <td>4.21</td>\n",
              "      <td>15042.50</td>\n",
              "      <td>1981</td>\n",
              "      <td>5138.0</td>\n",
              "      <td>5.0</td>\n",
              "      <td>4.0</td>\n",
              "      <td>83.33</td>\n",
              "      <td>10</td>\n",
              "      <td>2</td>\n",
              "      <td>7.0</td>\n",
              "      <td>42</td>\n",
              "      <td>0.337361</td>\n",
              "      <td>369.793694</td>\n",
              "      <td>8</td>\n",
              "    </tr>\n",
              "    <tr>\n",
              "      <th>2</th>\n",
              "      <td>535000.0</td>\n",
              "      <td>85749</td>\n",
              "      <td>-110.771050</td>\n",
              "      <td>32.273170</td>\n",
              "      <td>1.86</td>\n",
              "      <td>4490.13</td>\n",
              "      <td>1999</td>\n",
              "      <td>3614.0</td>\n",
              "      <td>3.0</td>\n",
              "      <td>2.0</td>\n",
              "      <td>58.00</td>\n",
              "      <td>4</td>\n",
              "      <td>2</td>\n",
              "      <td>7.0</td>\n",
              "      <td>24</td>\n",
              "      <td>0.071331</td>\n",
              "      <td>148.035418</td>\n",
              "      <td>13</td>\n",
              "    </tr>\n",
              "    <tr>\n",
              "      <th>3</th>\n",
              "      <td>680000.0</td>\n",
              "      <td>85718</td>\n",
              "      <td>-110.917178</td>\n",
              "      <td>32.312064</td>\n",
              "      <td>1.00</td>\n",
              "      <td>5750.54</td>\n",
              "      <td>1994</td>\n",
              "      <td>2665.0</td>\n",
              "      <td>3.0</td>\n",
              "      <td>1.0</td>\n",
              "      <td>195.00</td>\n",
              "      <td>11</td>\n",
              "      <td>1</td>\n",
              "      <td>7.0</td>\n",
              "      <td>29</td>\n",
              "      <td>0.099591</td>\n",
              "      <td>255.159475</td>\n",
              "      <td>10</td>\n",
              "    </tr>\n",
              "    <tr>\n",
              "      <th>4</th>\n",
              "      <td>800000.0</td>\n",
              "      <td>85718</td>\n",
              "      <td>-110.920262</td>\n",
              "      <td>32.297649</td>\n",
              "      <td>1.02</td>\n",
              "      <td>6556.00</td>\n",
              "      <td>1994</td>\n",
              "      <td>3415.0</td>\n",
              "      <td>3.0</td>\n",
              "      <td>2.0</td>\n",
              "      <td>133.00</td>\n",
              "      <td>5</td>\n",
              "      <td>1</td>\n",
              "      <td>8.0</td>\n",
              "      <td>29</td>\n",
              "      <td>0.122978</td>\n",
              "      <td>234.260615</td>\n",
              "      <td>11</td>\n",
              "    </tr>\n",
              "  </tbody>\n",
              "</table>\n",
              "</div>\n",
              "      <button class=\"colab-df-convert\" onclick=\"convertToInteractive('df-55c99ea4-795b-46c5-a241-4e7e615cfc6e')\"\n",
              "              title=\"Convert this dataframe to an interactive table.\"\n",
              "              style=\"display:none;\">\n",
              "        \n",
              "  <svg xmlns=\"http://www.w3.org/2000/svg\" height=\"24px\"viewBox=\"0 0 24 24\"\n",
              "       width=\"24px\">\n",
              "    <path d=\"M0 0h24v24H0V0z\" fill=\"none\"/>\n",
              "    <path d=\"M18.56 5.44l.94 2.06.94-2.06 2.06-.94-2.06-.94-.94-2.06-.94 2.06-2.06.94zm-11 1L8.5 8.5l.94-2.06 2.06-.94-2.06-.94L8.5 2.5l-.94 2.06-2.06.94zm10 10l.94 2.06.94-2.06 2.06-.94-2.06-.94-.94-2.06-.94 2.06-2.06.94z\"/><path d=\"M17.41 7.96l-1.37-1.37c-.4-.4-.92-.59-1.43-.59-.52 0-1.04.2-1.43.59L10.3 9.45l-7.72 7.72c-.78.78-.78 2.05 0 2.83L4 21.41c.39.39.9.59 1.41.59.51 0 1.02-.2 1.41-.59l7.78-7.78 2.81-2.81c.8-.78.8-2.07 0-2.86zM5.41 20L4 18.59l7.72-7.72 1.47 1.35L5.41 20z\"/>\n",
              "  </svg>\n",
              "      </button>\n",
              "      \n",
              "  <style>\n",
              "    .colab-df-container {\n",
              "      display:flex;\n",
              "      flex-wrap:wrap;\n",
              "      gap: 12px;\n",
              "    }\n",
              "\n",
              "    .colab-df-convert {\n",
              "      background-color: #E8F0FE;\n",
              "      border: none;\n",
              "      border-radius: 50%;\n",
              "      cursor: pointer;\n",
              "      display: none;\n",
              "      fill: #1967D2;\n",
              "      height: 32px;\n",
              "      padding: 0 0 0 0;\n",
              "      width: 32px;\n",
              "    }\n",
              "\n",
              "    .colab-df-convert:hover {\n",
              "      background-color: #E2EBFA;\n",
              "      box-shadow: 0px 1px 2px rgba(60, 64, 67, 0.3), 0px 1px 3px 1px rgba(60, 64, 67, 0.15);\n",
              "      fill: #174EA6;\n",
              "    }\n",
              "\n",
              "    [theme=dark] .colab-df-convert {\n",
              "      background-color: #3B4455;\n",
              "      fill: #D2E3FC;\n",
              "    }\n",
              "\n",
              "    [theme=dark] .colab-df-convert:hover {\n",
              "      background-color: #434B5C;\n",
              "      box-shadow: 0px 1px 3px 1px rgba(0, 0, 0, 0.15);\n",
              "      filter: drop-shadow(0px 1px 2px rgba(0, 0, 0, 0.3));\n",
              "      fill: #FFFFFF;\n",
              "    }\n",
              "  </style>\n",
              "\n",
              "      <script>\n",
              "        const buttonEl =\n",
              "          document.querySelector('#df-55c99ea4-795b-46c5-a241-4e7e615cfc6e button.colab-df-convert');\n",
              "        buttonEl.style.display =\n",
              "          google.colab.kernel.accessAllowed ? 'block' : 'none';\n",
              "\n",
              "        async function convertToInteractive(key) {\n",
              "          const element = document.querySelector('#df-55c99ea4-795b-46c5-a241-4e7e615cfc6e');\n",
              "          const dataTable =\n",
              "            await google.colab.kernel.invokeFunction('convertToInteractive',\n",
              "                                                     [key], {});\n",
              "          if (!dataTable) return;\n",
              "\n",
              "          const docLinkHtml = 'Like what you see? Visit the ' +\n",
              "            '<a target=\"_blank\" href=https://colab.research.google.com/notebooks/data_table.ipynb>data table notebook</a>'\n",
              "            + ' to learn more about interactive tables.';\n",
              "          element.innerHTML = '';\n",
              "          dataTable['output_type'] = 'display_data';\n",
              "          await google.colab.output.renderOutput(dataTable, element);\n",
              "          const docLink = document.createElement('div');\n",
              "          docLink.innerHTML = docLinkHtml;\n",
              "          element.appendChild(docLink);\n",
              "        }\n",
              "      </script>\n",
              "    </div>\n",
              "  </div>\n",
              "  "
            ]
          },
          "metadata": {},
          "execution_count": 8
        }
      ]
    },
    {
      "cell_type": "code",
      "source": [
        "train_set.shape"
      ],
      "metadata": {
        "colab": {
          "base_uri": "https://localhost:8080/"
        },
        "id": "WXg2JlKM4yz9",
        "outputId": "f69a891d-15df-4ac9-cfd7-d9e8d49524c4"
      },
      "execution_count": 9,
      "outputs": [
        {
          "output_type": "execute_result",
          "data": {
            "text/plain": [
              "(3924, 18)"
            ]
          },
          "metadata": {},
          "execution_count": 9
        }
      ]
    },
    {
      "cell_type": "code",
      "source": [
        "test_set.shape"
      ],
      "metadata": {
        "colab": {
          "base_uri": "https://localhost:8080/"
        },
        "id": "N9aEavKe5AC8",
        "outputId": "63c19de1-a5f6-43fd-8525-bc5e6eddeb6c"
      },
      "execution_count": 10,
      "outputs": [
        {
          "output_type": "execute_result",
          "data": {
            "text/plain": [
              "(981, 18)"
            ]
          },
          "metadata": {},
          "execution_count": 10
        }
      ]
    },
    {
      "cell_type": "code",
      "source": [],
      "metadata": {
        "id": "8vGew0PW5DCJ"
      },
      "execution_count": 10,
      "outputs": []
    },
    {
      "cell_type": "code",
      "source": [
        "\n",
        "X_train = train_set[['longitude','latitude','lot_acres','house_age','sqrt_ft','rooms']]"
      ],
      "metadata": {
        "id": "mbwyhTsTLDgt"
      },
      "execution_count": 11,
      "outputs": []
    },
    {
      "cell_type": "code",
      "source": [
        "X_train.shape"
      ],
      "metadata": {
        "colab": {
          "base_uri": "https://localhost:8080/"
        },
        "outputId": "8d48cf85-1c02-4498-991b-71ddd01fb67b",
        "id": "e38KdB6YCPIc"
      },
      "execution_count": 12,
      "outputs": [
        {
          "output_type": "execute_result",
          "data": {
            "text/plain": [
              "(3924, 6)"
            ]
          },
          "metadata": {},
          "execution_count": 12
        }
      ]
    },
    {
      "cell_type": "code",
      "source": [
        "X_train = X_train.to_numpy()"
      ],
      "metadata": {
        "id": "RPZHgRvS7OgC"
      },
      "execution_count": 13,
      "outputs": []
    },
    {
      "cell_type": "code",
      "source": [
        "X_train"
      ],
      "metadata": {
        "colab": {
          "base_uri": "https://localhost:8080/"
        },
        "id": "KTQln7qW_vHX",
        "outputId": "5043295f-aaef-4c24-e928-634cac517e2f"
      },
      "execution_count": 14,
      "outputs": [
        {
          "output_type": "execute_result",
          "data": {
            "text/plain": [
              "array([[-1.10843825e+02,  3.23242190e+01,  2.50000000e-01,\n",
              "         2.70000000e+01,  2.93600000e+03,  7.00000000e+00],\n",
              "       [-1.10928038e+02,  3.23394990e+01,  4.21000000e+00,\n",
              "         4.20000000e+01,  5.13800000e+03,  7.00000000e+00],\n",
              "       [-1.10771050e+02,  3.22731700e+01,  1.86000000e+00,\n",
              "         2.40000000e+01,  3.61400000e+03,  7.00000000e+00],\n",
              "       ...,\n",
              "       [-1.10973746e+02,  3.23866030e+01,  1.37000000e+00,\n",
              "         3.80000000e+01,  2.59100000e+03,  6.00000000e+00],\n",
              "       [-1.10890012e+02,  3.23023960e+01,  1.83000000e+00,\n",
              "         1.80000000e+01,  4.51300000e+03,  8.00000000e+00],\n",
              "       [-1.10965906e+02,  3.22153700e+01,  1.90000000e-01,\n",
              "         1.01000000e+02,  2.50400000e+03,  7.00000000e+00]])"
            ]
          },
          "metadata": {},
          "execution_count": 14
        }
      ]
    },
    {
      "cell_type": "code",
      "source": [
        "X_train.shape"
      ],
      "metadata": {
        "colab": {
          "base_uri": "https://localhost:8080/"
        },
        "id": "FT6fO2Mi7vyg",
        "outputId": "9974732c-3112-46ae-b063-74a183d70bad"
      },
      "execution_count": 15,
      "outputs": [
        {
          "output_type": "execute_result",
          "data": {
            "text/plain": [
              "(3924, 6)"
            ]
          },
          "metadata": {},
          "execution_count": 15
        }
      ]
    },
    {
      "cell_type": "code",
      "source": [
        "y_train = train_set['cat']"
      ],
      "metadata": {
        "id": "6Q0J-ak95xlG"
      },
      "execution_count": 16,
      "outputs": []
    },
    {
      "cell_type": "code",
      "source": [
        "y_train = y_train.to_numpy()"
      ],
      "metadata": {
        "id": "4oCfCF3w7g1y"
      },
      "execution_count": 17,
      "outputs": []
    },
    {
      "cell_type": "code",
      "source": [
        "y_train.shape"
      ],
      "metadata": {
        "colab": {
          "base_uri": "https://localhost:8080/"
        },
        "id": "dEo6xgJ37z30",
        "outputId": "bc0d5db7-86c4-4aad-e30c-681b8a9a40d4"
      },
      "execution_count": 18,
      "outputs": [
        {
          "output_type": "execute_result",
          "data": {
            "text/plain": [
              "(3924,)"
            ]
          },
          "metadata": {},
          "execution_count": 18
        }
      ]
    },
    {
      "cell_type": "code",
      "source": [
        "y_train"
      ],
      "metadata": {
        "colab": {
          "base_uri": "https://localhost:8080/"
        },
        "id": "C8SzogWX7mAK",
        "outputId": "c556e554-b176-4541-ba0d-491ed6e0729d"
      },
      "execution_count": 19,
      "outputs": [
        {
          "output_type": "execute_result",
          "data": {
            "text/plain": [
              "array([11,  8, 13, ..., 11, 11, 10])"
            ]
          },
          "metadata": {},
          "execution_count": 19
        }
      ]
    },
    {
      "cell_type": "code",
      "source": [
        "X_test = test_set[['longitude','latitude','lot_acres','house_age','sqrt_ft','rooms']]\n",
        "X_test = X_test.to_numpy()"
      ],
      "metadata": {
        "id": "RT-9ZTpC79Dv"
      },
      "execution_count": 20,
      "outputs": []
    },
    {
      "cell_type": "code",
      "source": [
        "X_test.shape"
      ],
      "metadata": {
        "colab": {
          "base_uri": "https://localhost:8080/"
        },
        "id": "CQMvD2RF9-q5",
        "outputId": "ab8bebf0-0bf8-42db-f3a0-bff5ff679b0b"
      },
      "execution_count": 21,
      "outputs": [
        {
          "output_type": "execute_result",
          "data": {
            "text/plain": [
              "(981, 6)"
            ]
          },
          "metadata": {},
          "execution_count": 21
        }
      ]
    },
    {
      "cell_type": "code",
      "source": [
        "y_test = test_set['cat']\n",
        "y_test = y_test.to_numpy()"
      ],
      "metadata": {
        "id": "MNPHQNKL-K8O"
      },
      "execution_count": 22,
      "outputs": []
    },
    {
      "cell_type": "code",
      "source": [
        "np.unique(y_test)"
      ],
      "metadata": {
        "colab": {
          "base_uri": "https://localhost:8080/"
        },
        "id": "-4oJZ4KEQ1mn",
        "outputId": "4701d431-f581-4c99-cd5b-f63f4fa888be"
      },
      "execution_count": 23,
      "outputs": [
        {
          "output_type": "execute_result",
          "data": {
            "text/plain": [
              "array([ 3,  4,  5,  6,  8,  9, 10, 11, 12, 13])"
            ]
          },
          "metadata": {},
          "execution_count": 23
        }
      ]
    },
    {
      "cell_type": "code",
      "source": [
        "y_test.shape"
      ],
      "metadata": {
        "colab": {
          "base_uri": "https://localhost:8080/"
        },
        "id": "OC7wR8ph-dWI",
        "outputId": "96853757-669f-4704-93c5-4f7e8c63a49f"
      },
      "execution_count": 24,
      "outputs": [
        {
          "output_type": "execute_result",
          "data": {
            "text/plain": [
              "(981,)"
            ]
          },
          "metadata": {},
          "execution_count": 24
        }
      ]
    },
    {
      "cell_type": "code",
      "source": [],
      "metadata": {
        "id": "tF8NQ2fGREZP"
      },
      "execution_count": 24,
      "outputs": []
    },
    {
      "cell_type": "markdown",
      "source": [
        "# KNN Classification"
      ],
      "metadata": {
        "id": "tuYCneN4825l"
      }
    },
    {
      "cell_type": "code",
      "source": [
        "class KNNClassifier():\n",
        "\n",
        "  def fit(self, X, y):\n",
        "    self.X=X\n",
        "    self.y=y\n",
        "\n",
        "  def predict(self,X, K, epsilon = 1e-3):\n",
        "\n",
        "    N = len(X)\n",
        "    y_hat = np.zeros(N)\n",
        "\n",
        "    for i in range(N):\n",
        "      dist2 = np.sum((self.X-X[i])**2, axis=1)\n",
        "      idxt = np.argsort(dist2)[:K] # sort the dist (indexes) upto K no.of values\n",
        "      gamma_k = 1/(np.sqrt(dist2[idxt] + epsilon))\n",
        "\n",
        "      y_hat[i] = np.bincount(self.y[idxt], weights = gamma_k).argmax()\n",
        "\n",
        "    return y_hat\n"
      ],
      "metadata": {
        "id": "dlsyvgcxjiRr"
      },
      "execution_count": 25,
      "outputs": []
    },
    {
      "cell_type": "code",
      "source": [
        "# Define Accuracy\n",
        "def accuracy(y,y_hat):\n",
        "  return np.mean(y == y_hat)"
      ],
      "metadata": {
        "id": "gC5495BI8yf5"
      },
      "execution_count": 26,
      "outputs": []
    },
    {
      "cell_type": "code",
      "source": [
        "X_train.shape"
      ],
      "metadata": {
        "colab": {
          "base_uri": "https://localhost:8080/"
        },
        "id": "dV32cvsl8_hE",
        "outputId": "cd3d734e-21b9-4d5a-bbe6-f06b78f5263f"
      },
      "execution_count": 27,
      "outputs": [
        {
          "output_type": "execute_result",
          "data": {
            "text/plain": [
              "(3924, 6)"
            ]
          },
          "metadata": {},
          "execution_count": 27
        }
      ]
    },
    {
      "cell_type": "code",
      "source": [
        "knn = KNNClassifier()\n",
        "knn.fit(X_train,y_train)"
      ],
      "metadata": {
        "id": "vwehgm85oKof"
      },
      "execution_count": 28,
      "outputs": []
    },
    {
      "cell_type": "code",
      "source": [
        "y_hat = knn.predict(X_train, 7)"
      ],
      "metadata": {
        "id": "X9BJwxlz9JQP"
      },
      "execution_count": 29,
      "outputs": []
    },
    {
      "cell_type": "code",
      "source": [
        "accuracy(y_train, y_hat)"
      ],
      "metadata": {
        "colab": {
          "base_uri": "https://localhost:8080/"
        },
        "id": "4PLM7PpwUQe-",
        "outputId": "8cb2175e-8e1f-4322-82e8-cfb36158b07d"
      },
      "execution_count": 30,
      "outputs": [
        {
          "output_type": "execute_result",
          "data": {
            "text/plain": [
              "0.9867482161060143"
            ]
          },
          "metadata": {},
          "execution_count": 30
        }
      ]
    },
    {
      "cell_type": "code",
      "source": [
        "y_hat = knn.predict(X_train, 7)\n",
        "accuracy(y_train, y_hat)"
      ],
      "metadata": {
        "colab": {
          "base_uri": "https://localhost:8080/"
        },
        "id": "ZLJ0ETzneZd-",
        "outputId": "3d709d23-b692-4879-c147-65b8a0772455"
      },
      "execution_count": 31,
      "outputs": [
        {
          "output_type": "execute_result",
          "data": {
            "text/plain": [
              "0.9867482161060143"
            ]
          },
          "metadata": {},
          "execution_count": 31
        }
      ]
    },
    {
      "cell_type": "code",
      "source": [
        "y_hat = knn.predict(X_train, 10)\n",
        "accuracy(y_train, y_hat)"
      ],
      "metadata": {
        "colab": {
          "base_uri": "https://localhost:8080/"
        },
        "id": "AT4iwVRAeZlA",
        "outputId": "5feb6406-23af-48eb-dd73-f53bf010ee8c"
      },
      "execution_count": 32,
      "outputs": [
        {
          "output_type": "execute_result",
          "data": {
            "text/plain": [
              "0.9857288481141692"
            ]
          },
          "metadata": {},
          "execution_count": 32
        }
      ]
    },
    {
      "cell_type": "code",
      "source": [
        "y_hat = knn.predict(X_train, 20)\n",
        "accuracy(y_train, y_hat)"
      ],
      "metadata": {
        "colab": {
          "base_uri": "https://localhost:8080/"
        },
        "id": "FrA3fOK5ee0e",
        "outputId": "63e0e4ca-8541-435c-c484-165909fb7443"
      },
      "execution_count": 33,
      "outputs": [
        {
          "output_type": "execute_result",
          "data": {
            "text/plain": [
              "0.985474006116208"
            ]
          },
          "metadata": {},
          "execution_count": 33
        }
      ]
    },
    {
      "cell_type": "code",
      "source": [
        "y_hat = knn.predict(X_train, 30)\n",
        "accuracy(y_train, y_hat)"
      ],
      "metadata": {
        "colab": {
          "base_uri": "https://localhost:8080/"
        },
        "id": "4Xs_QYWdee9J",
        "outputId": "fe855bb9-cc74-4e52-f1c3-3da28275f3f3"
      },
      "execution_count": 34,
      "outputs": [
        {
          "output_type": "execute_result",
          "data": {
            "text/plain": [
              "0.985474006116208"
            ]
          },
          "metadata": {},
          "execution_count": 34
        }
      ]
    },
    {
      "cell_type": "code",
      "source": [
        "y_hat = knn.predict(X_train, 50)\n",
        "accuracy(y_train, y_hat)"
      ],
      "metadata": {
        "colab": {
          "base_uri": "https://localhost:8080/"
        },
        "id": "w1CD7HuBej_3",
        "outputId": "45edee9a-3fc9-42cd-a1a5-fc0c834147bd"
      },
      "execution_count": 35,
      "outputs": [
        {
          "output_type": "execute_result",
          "data": {
            "text/plain": [
              "0.9852191641182467"
            ]
          },
          "metadata": {},
          "execution_count": 35
        }
      ]
    },
    {
      "cell_type": "code",
      "source": [],
      "metadata": {
        "id": "Y_dX8eLFewHw"
      },
      "execution_count": 35,
      "outputs": []
    },
    {
      "cell_type": "code",
      "source": [
        "y_hat = knn.predict(X_test, 30)"
      ],
      "metadata": {
        "id": "I9lcy1rRLYvH"
      },
      "execution_count": 36,
      "outputs": []
    },
    {
      "cell_type": "code",
      "source": [
        "np.unique(y_hat)"
      ],
      "metadata": {
        "colab": {
          "base_uri": "https://localhost:8080/"
        },
        "id": "J-EFlvrRQiYN",
        "outputId": "424b870f-9ae5-4008-c082-8e049f6c9003"
      },
      "execution_count": 37,
      "outputs": [
        {
          "output_type": "execute_result",
          "data": {
            "text/plain": [
              "array([ 4.,  8.,  9., 10., 11., 12., 13.])"
            ]
          },
          "metadata": {},
          "execution_count": 37
        }
      ]
    },
    {
      "cell_type": "code",
      "source": [
        "accuracy(y_test, y_hat)"
      ],
      "metadata": {
        "colab": {
          "base_uri": "https://localhost:8080/"
        },
        "id": "irgSdfhyOXmM",
        "outputId": "7b47e07f-d80b-43f3-c25b-a4c9d7553eee"
      },
      "execution_count": 38,
      "outputs": [
        {
          "output_type": "execute_result",
          "data": {
            "text/plain": [
              "0.4841997961264016"
            ]
          },
          "metadata": {},
          "execution_count": 38
        }
      ]
    },
    {
      "cell_type": "code",
      "source": [
        "y_hat = knn.predict(X_test, 7)\n",
        "accuracy(y_test, y_hat)"
      ],
      "metadata": {
        "colab": {
          "base_uri": "https://localhost:8080/"
        },
        "id": "lqVLt3wCeEy8",
        "outputId": "14aa93a7-c46e-44c0-ea7e-4f588165927a"
      },
      "execution_count": 39,
      "outputs": [
        {
          "output_type": "execute_result",
          "data": {
            "text/plain": [
              "0.46075433231396534"
            ]
          },
          "metadata": {},
          "execution_count": 39
        }
      ]
    },
    {
      "cell_type": "code",
      "source": [
        "y_hat = knn.predict(X_test, 10)\n",
        "accuracy(y_test, y_hat)"
      ],
      "metadata": {
        "colab": {
          "base_uri": "https://localhost:8080/"
        },
        "id": "HH1Jp_-3d-xe",
        "outputId": "2dac5592-2f61-4fd2-f2c3-e8585a707f3e"
      },
      "execution_count": 40,
      "outputs": [
        {
          "output_type": "execute_result",
          "data": {
            "text/plain": [
              "0.47706422018348627"
            ]
          },
          "metadata": {},
          "execution_count": 40
        }
      ]
    },
    {
      "cell_type": "code",
      "source": [
        "y_hat = knn.predict(X_test, 20)\n",
        "accuracy(y_test, y_hat)"
      ],
      "metadata": {
        "colab": {
          "base_uri": "https://localhost:8080/"
        },
        "id": "iS7TI4xpd-2I",
        "outputId": "da368dae-8852-40f3-fd44-fd1442bcf550"
      },
      "execution_count": 41,
      "outputs": [
        {
          "output_type": "execute_result",
          "data": {
            "text/plain": [
              "0.46992864424057085"
            ]
          },
          "metadata": {},
          "execution_count": 41
        }
      ]
    },
    {
      "cell_type": "code",
      "source": [
        "y_hat = knn.predict(X_test, 50)\n",
        "accuracy(y_test, y_hat)"
      ],
      "metadata": {
        "colab": {
          "base_uri": "https://localhost:8080/"
        },
        "id": "fEeDwGrwd-8S",
        "outputId": "4a833ba9-b17c-4191-b924-cddf7982f97d"
      },
      "execution_count": 42,
      "outputs": [
        {
          "output_type": "execute_result",
          "data": {
            "text/plain": [
              "0.49133537206931704"
            ]
          },
          "metadata": {},
          "execution_count": 42
        }
      ]
    },
    {
      "cell_type": "markdown",
      "source": [
        "# Multi Variate Linear Regression"
      ],
      "metadata": {
        "id": "orssJm3dA2ct"
      }
    },
    {
      "cell_type": "code",
      "source": [],
      "metadata": {
        "id": "PjV_gOiTA7yD"
      },
      "execution_count": 42,
      "outputs": []
    },
    {
      "cell_type": "code",
      "source": [
        "def OLS(Y, Y_hat,N):\n",
        "  #N = len(Y)\n",
        "  return (1/(2*N)*np.sum((Y-Y_hat)**2))"
      ],
      "metadata": {
        "id": "AUnJ2-sMVO8I"
      },
      "execution_count": 43,
      "outputs": []
    },
    {
      "cell_type": "code",
      "source": [],
      "metadata": {
        "id": "8GGEmzt2BHXD"
      },
      "execution_count": 43,
      "outputs": []
    },
    {
      "cell_type": "code",
      "source": [
        "# Multi variate linear regression\n",
        "class MVLinearRegression():\n",
        "  def fit(self, X,y, eta = 1e-3, epochs =1e3, show_curve = False):\n",
        "    epochs =int(epochs)\n",
        "    N, D = X.shape\n",
        "    Y =y\n",
        "\n",
        "    #Initialize the weights\n",
        "    self.W =np.random.randn(D)\n",
        "\n",
        "    J = np.zeros(epochs)\n",
        "\n",
        "    for epoch in range(epochs):\n",
        "      Y_hat = self.predict(X)\n",
        "      J[epoch] = OLS(Y, Y_hat, N)\n",
        "      #weight update Rule:\n",
        "      self.W = self.W - eta*(1/N)*(X.T@(Y_hat-Y))\n",
        "\n",
        "    if show_curve:\n",
        "      plt.figure()\n",
        "      plt.plot(J)\n",
        "      plt.xlabel(\"epochs\")\n",
        "      plt.ylabel(\"$\\mathcal{J}$\")\n",
        "      plt.title(\"Training Curve\")\n",
        "      plt.show()\n",
        "\n",
        "\n",
        "  def predict(self,X):\n",
        "    return X @ self.W"
      ],
      "metadata": {
        "id": "73WAtlf6gEOB"
      },
      "execution_count": 44,
      "outputs": []
    },
    {
      "cell_type": "code",
      "source": [
        "class MVlinearRegression():\n",
        "\n",
        "  def fit(self, X, y, eta = 1e-3, epochs= 1e3, show_curve = False):\n",
        "    epochs = int(epochs)\n",
        "    N, D = X.shape\n",
        "    Y= y\n",
        "    # SGD Cycle, Initialize the weights\n",
        "    self.W = np.random.rand(D)\n",
        "    J = np.zeros(epochs)\n",
        "    for epoch in range(epochs):\n",
        "      Y_hat = self.predict(X)\n",
        "      J[epoch] = OLS(Y, Y_hat,)\n",
        "      self.W -= eta*(1/N)*(X.T@(Y_hat - Y)) # Gradient\n",
        "\n",
        "    if show_curve:\n",
        "      plt.figure()\n",
        "      plt.plot(J)\n",
        "      plt.xlabel(\"epochs\")\n",
        "      plt.ylabel(\"$\\mathcal{J}$\")\n",
        "      plt.title(\"Training Curve\")\n",
        "      plt.show()\n",
        "  def predict(self,X):\n",
        "    return X@self.W"
      ],
      "metadata": {
        "id": "VkmL6FRoUfpp"
      },
      "execution_count": 45,
      "outputs": []
    },
    {
      "cell_type": "code",
      "source": [
        "#RMSE\n",
        "def RMSE(Y, Y_hat):\n",
        "    n = len(Y)\n",
        "    sq_err = (Y - Y_hat) ** 2\n",
        "    mse = np.sum(sq_err) / n\n",
        "    rmse = np.sqrt(mse)\n",
        "\n",
        "    return rmse"
      ],
      "metadata": {
        "id": "C1oST75rMj-G"
      },
      "execution_count": 46,
      "outputs": []
    },
    {
      "cell_type": "code",
      "source": [
        "# R-Squred\n",
        "def R2(Y, Y_hat):\n",
        "  return(1-(np.sum((Y - Y_hat)**2))/np.sum((Y-np.mean(Y))**2))"
      ],
      "metadata": {
        "id": "nbWq5U_JU9_z"
      },
      "execution_count": 47,
      "outputs": []
    },
    {
      "cell_type": "code",
      "source": [],
      "metadata": {
        "id": "dsIZfHQBVAPP"
      },
      "execution_count": 47,
      "outputs": []
    },
    {
      "cell_type": "code",
      "source": [
        "X_train = train_set[['longitude','latitude','lot_acres','house_age','sqrt_ft','rooms','cat']]\n",
        "X_train = X_train.to_numpy()\n",
        "X_train.shape"
      ],
      "metadata": {
        "colab": {
          "base_uri": "https://localhost:8080/"
        },
        "id": "RlWh2Us6BLZO",
        "outputId": "c83ac321-f805-4b34-dc6c-9b939095c766"
      },
      "execution_count": 48,
      "outputs": [
        {
          "output_type": "execute_result",
          "data": {
            "text/plain": [
              "(3924, 7)"
            ]
          },
          "metadata": {},
          "execution_count": 48
        }
      ]
    },
    {
      "cell_type": "code",
      "source": [
        "y_train = train_set['sold_price']\n",
        "y_train = y_train.to_numpy()\n",
        "y_train.shape"
      ],
      "metadata": {
        "colab": {
          "base_uri": "https://localhost:8080/"
        },
        "id": "cFCz1ACbBrKu",
        "outputId": "bfa5a0c1-f721-4b7b-cc89-0fcc81ca4dc5"
      },
      "execution_count": 49,
      "outputs": [
        {
          "output_type": "execute_result",
          "data": {
            "text/plain": [
              "(3924,)"
            ]
          },
          "metadata": {},
          "execution_count": 49
        }
      ]
    },
    {
      "cell_type": "code",
      "source": [
        "X_test = test_set[['longitude','latitude','lot_acres','house_age','sqrt_ft','rooms','cat']]\n",
        "X_test = X_test.to_numpy()\n",
        "X_test.shape"
      ],
      "metadata": {
        "colab": {
          "base_uri": "https://localhost:8080/"
        },
        "id": "5t5pCqMDlllG",
        "outputId": "b31324cb-4692-42e4-82f7-5956ac53c0cb"
      },
      "execution_count": 50,
      "outputs": [
        {
          "output_type": "execute_result",
          "data": {
            "text/plain": [
              "(981, 7)"
            ]
          },
          "metadata": {},
          "execution_count": 50
        }
      ]
    },
    {
      "cell_type": "code",
      "source": [
        "y_test = test_set['sold_price']\n",
        "y_test = y_test.to_numpy()\n",
        "y_test.shape"
      ],
      "metadata": {
        "colab": {
          "base_uri": "https://localhost:8080/"
        },
        "id": "VC_DcqY0lpmb",
        "outputId": "b0bcfc21-cc3d-4ef8-85ae-240322423d54"
      },
      "execution_count": 51,
      "outputs": [
        {
          "output_type": "execute_result",
          "data": {
            "text/plain": [
              "(981,)"
            ]
          },
          "metadata": {},
          "execution_count": 51
        }
      ]
    },
    {
      "cell_type": "code",
      "source": [],
      "metadata": {
        "id": "iTQFEv5kCaUn"
      },
      "execution_count": 51,
      "outputs": []
    },
    {
      "cell_type": "code",
      "source": [
        "\n",
        "mvlr = MVLinearRegression()\n",
        "mvlr.fit(X_train,y_train,epochs=7000, eta = 1e-10,show_curve= True)\n",
        "y_hat = mvlr.predict(X_train)"
      ],
      "metadata": {
        "colab": {
          "base_uri": "https://localhost:8080/",
          "height": 472
        },
        "id": "x5_-QAXQCm22",
        "outputId": "4d34967d-64e2-4df0-9156-ad39c8562cf0"
      },
      "execution_count": 52,
      "outputs": [
        {
          "output_type": "display_data",
          "data": {
            "text/plain": [
              "<Figure size 640x480 with 1 Axes>"
            ],
            "image/png": "[encoded data removed]"
          },
          "metadata": {}
        }
      ]
    },
    {
      "cell_type": "code",
      "source": [
        "RMSE(y_train, y_hat)"
      ],
      "metadata": {
        "colab": {
          "base_uri": "https://localhost:8080/"
        },
        "id": "TPtge-VGMTBc",
        "outputId": "ab2d29b5-3055-43a3-f923-6806bad5738f"
      },
      "execution_count": 53,
      "outputs": [
        {
          "output_type": "execute_result",
          "data": {
            "text/plain": [
              "240519.42245515942"
            ]
          },
          "metadata": {},
          "execution_count": 53
        }
      ]
    },
    {
      "cell_type": "code",
      "source": [
        "R2(y_train, y_hat)"
      ],
      "metadata": {
        "colab": {
          "base_uri": "https://localhost:8080/"
        },
        "id": "YRfFw9EPVDUg",
        "outputId": "fa9603ad-c8ab-4d09-ce09-347b0e7b8996"
      },
      "execution_count": 54,
      "outputs": [
        {
          "output_type": "execute_result",
          "data": {
            "text/plain": [
              "0.3859761363602404"
            ]
          },
          "metadata": {},
          "execution_count": 54
        }
      ]
    },
    {
      "cell_type": "code",
      "source": [
        "total_residuals = y_train - y_hat"
      ],
      "metadata": {
        "id": "8Q7uSYZ2O4wP"
      },
      "execution_count": 55,
      "outputs": []
    },
    {
      "cell_type": "code",
      "source": [
        "# Ploting total residuals for training\n",
        "sns.scatterplot(x= y_train, y= total_residuals)\n",
        "plt.axhline(y=0, color = 'r', ls = '--')\n",
        "plt.xlabel(\"True y values\")\n",
        "plt.ylabel(\"Residuals of training set\")"
      ],
      "metadata": {
        "colab": {
          "base_uri": "https://localhost:8080/",
          "height": 482
        },
        "id": "74Xaz4oCO7m_",
        "outputId": "c19032ae-e4f6-4c07-a766-41f4c140a1db"
      },
      "execution_count": 56,
      "outputs": [
        {
          "output_type": "execute_result",
          "data": {
            "text/plain": [
              "Text(0, 0.5, 'Residuals of training set')"
            ]
          },
          "metadata": {},
          "execution_count": 56
        },
        {
          "output_type": "display_data",
          "data": {
            "text/plain": [
              "<Figure size 640x480 with 1 Axes>"
            ],
            "image/png": "[encoded data removed]"
          },
          "metadata": {}
        }
      ]
    },
    {
      "cell_type": "code",
      "source": [],
      "metadata": {
        "id": "bCuBVpByO7zX"
      },
      "execution_count": 56,
      "outputs": []
    },
    {
      "cell_type": "code",
      "source": [
        "y_hat"
      ],
      "metadata": {
        "colab": {
          "base_uri": "https://localhost:8080/"
        },
        "id": "cV7bE9ncSdQj",
        "outputId": "40a35f2a-39c7-4e11-fd1b-528e345aee93"
      },
      "execution_count": 57,
      "outputs": [
        {
          "output_type": "execute_result",
          "data": {
            "text/plain": [
              "array([ 612644.37445746, 1071540.46844067,  753934.13365766, ...,\n",
              "        540764.0911587 ,  941270.35782676,  522683.32497228])"
            ]
          },
          "metadata": {},
          "execution_count": 57
        }
      ]
    },
    {
      "cell_type": "code",
      "source": [],
      "metadata": {
        "id": "UNpiQNBSSezr"
      },
      "execution_count": 57,
      "outputs": []
    },
    {
      "cell_type": "code",
      "source": [
        "\n",
        "mvlr = MVLinearRegression()\n",
        "mvlr.fit(X_train,y_train,epochs=7000, eta = 1e-10,show_curve= True)\n",
        "y_hat = mvlr.predict(X_test)"
      ],
      "metadata": {
        "colab": {
          "base_uri": "https://localhost:8080/",
          "height": 472
        },
        "outputId": "eb21dd8c-1356-4c56-f13b-99bc1e290cf5",
        "id": "9P95II4wa4ag"
      },
      "execution_count": 58,
      "outputs": [
        {
          "output_type": "display_data",
          "data": {
            "text/plain": [
              "<Figure size 640x480 with 1 Axes>"
            ],
            "image/png": "[encoded data removed]"
          },
          "metadata": {}
        }
      ]
    },
    {
      "cell_type": "code",
      "source": [
        "RMSE(y_test, y_hat)"
      ],
      "metadata": {
        "colab": {
          "base_uri": "https://localhost:8080/"
        },
        "id": "eCYcJAdda6pE",
        "outputId": "68ec1c56-fd58-4abc-c4a0-b93b7993261e"
      },
      "execution_count": 59,
      "outputs": [
        {
          "output_type": "execute_result",
          "data": {
            "text/plain": [
              "247880.33022417285"
            ]
          },
          "metadata": {},
          "execution_count": 59
        }
      ]
    },
    {
      "cell_type": "code",
      "source": [
        "R2(y_test, y_hat)"
      ],
      "metadata": {
        "colab": {
          "base_uri": "https://localhost:8080/"
        },
        "id": "NZ8ZAacXVgho",
        "outputId": "f1db64d1-5b7c-4d73-effd-f51f46702a1c"
      },
      "execution_count": 60,
      "outputs": [
        {
          "output_type": "execute_result",
          "data": {
            "text/plain": [
              "0.33685005679094016"
            ]
          },
          "metadata": {},
          "execution_count": 60
        }
      ]
    },
    {
      "cell_type": "code",
      "source": [
        "# Ploting total residuals for test set\n",
        "total_residuals = y_test - y_hat\n",
        "\n",
        "sns.scatterplot(x= y_test, y= total_residuals)\n",
        "plt.axhline(y=0, color = 'r', ls = '--')\n",
        "plt.xlabel(\"True y values\")\n",
        "plt.ylabel(\"Residuals of test set\")\n"
      ],
      "metadata": {
        "colab": {
          "base_uri": "https://localhost:8080/",
          "height": 482
        },
        "id": "9qF_bkwqQzDe",
        "outputId": "58c05e85-8163-41a2-8eab-f2d88ad4bfef"
      },
      "execution_count": 61,
      "outputs": [
        {
          "output_type": "execute_result",
          "data": {
            "text/plain": [
              "Text(0, 0.5, 'Residuals of test set')"
            ]
          },
          "metadata": {},
          "execution_count": 61
        },
        {
          "output_type": "display_data",
          "data": {
            "text/plain": [
              "<Figure size 640x480 with 1 Axes>"
            ],
            "image/png": "[encoded data removed]"
          },
          "metadata": {}
        }
      ]
    },
    {
      "cell_type": "code",
      "source": [
        "#['longitude','latitude','year_built','taxes','garage','fireplaces','toal_kit_features','toal_flooring','lot_acres','house_age','sqrt_ft','rooms','cat']\n",
        "x_inf = np.array([[-110.69,32.24,0.39,30,2580.0,6,6]])"
      ],
      "metadata": {
        "id": "937qi3nvl9YW"
      },
      "execution_count": 62,
      "outputs": []
    },
    {
      "cell_type": "code",
      "source": [
        "mvlr = MVLinearRegression()\n",
        "mvlr.fit(X_train,y_train,epochs=7000, eta = 1e-10)\n",
        "y_hat = mvlr.predict(x_inf)"
      ],
      "metadata": {
        "id": "-ncJHP68nDCz"
      },
      "execution_count": 63,
      "outputs": []
    },
    {
      "cell_type": "code",
      "source": [
        "y_hat"
      ],
      "metadata": {
        "colab": {
          "base_uri": "https://localhost:8080/"
        },
        "id": "GKL3lc9QnItf",
        "outputId": "e710e1d4-501f-408b-ad05-12c31c477220"
      },
      "execution_count": 64,
      "outputs": [
        {
          "output_type": "execute_result",
          "data": {
            "text/plain": [
              "array([538500.15408871])"
            ]
          },
          "metadata": {},
          "execution_count": 64
        }
      ]
    },
    {
      "cell_type": "code",
      "source": [
        "def LatLon(str):\n",
        "  geolocator = Nominatim(user_agent = 'DSUnited')\n",
        "  location = geolocator.geocode(str)\n",
        "  # location.point\n",
        "  lat = location.point[0]\n",
        "  lon = location.point[1]\n",
        "  return lat, lon"
      ],
      "metadata": {
        "id": "3r2qYZevnJ2t"
      },
      "execution_count": 65,
      "outputs": []
    },
    {
      "cell_type": "code",
      "source": [
        "lat, lon = LatLon('1785 the exchange se, atlanta')\n"
      ],
      "metadata": {
        "id": "AV955zdNqp9v"
      },
      "execution_count": 66,
      "outputs": []
    },
    {
      "cell_type": "code",
      "source": [
        "lat"
      ],
      "metadata": {
        "colab": {
          "base_uri": "https://localhost:8080/"
        },
        "id": "EFzUFPNvq_MW",
        "outputId": "435ea5aa-3356-4684-afc4-552e1ac88977"
      },
      "execution_count": 67,
      "outputs": [
        {
          "output_type": "execute_result",
          "data": {
            "text/plain": [
              "33.90915665"
            ]
          },
          "metadata": {},
          "execution_count": 67
        }
      ]
    },
    {
      "cell_type": "code",
      "source": [
        "lon"
      ],
      "metadata": {
        "colab": {
          "base_uri": "https://localhost:8080/"
        },
        "id": "Gnx3RFZWrAtW",
        "outputId": "e4eef526-7a71-45bb-9add-e42d8bb527d7"
      },
      "execution_count": 68,
      "outputs": [
        {
          "output_type": "execute_result",
          "data": {
            "text/plain": [
              "-84.47914869915438"
            ]
          },
          "metadata": {},
          "execution_count": 68
        }
      ]
    },
    {
      "cell_type": "code",
      "source": [
        "geolocator = Nominatim(user_agent = 'DSUnited')\n",
        "location = geolocator.geocode('1785 the exchange se, atlanta')\n",
        "# location.point\n",
        "lat = location.point[0]\n",
        "lon = location.point[1]"
      ],
      "metadata": {
        "id": "OfsqLOOzbItN"
      },
      "execution_count": 69,
      "outputs": []
    },
    {
      "cell_type": "code",
      "source": [
        "arr = np.array([[2,7,8,9]], dtype = float)\n",
        "arr = np.insert(arr, 0, lat)"
      ],
      "metadata": {
        "id": "cwknvInZsyZi"
      },
      "execution_count": 70,
      "outputs": []
    },
    {
      "cell_type": "code",
      "source": [
        "arr"
      ],
      "metadata": {
        "colab": {
          "base_uri": "https://localhost:8080/"
        },
        "id": "AOluSrtVwwFv",
        "outputId": "d1381e28-4e9b-4911-f335-1a403c08827c"
      },
      "execution_count": 71,
      "outputs": [
        {
          "output_type": "execute_result",
          "data": {
            "text/plain": [
              "array([33.90915665,  2.        ,  7.        ,  8.        ,  9.        ])"
            ]
          },
          "metadata": {},
          "execution_count": 71
        }
      ]
    },
    {
      "cell_type": "code",
      "source": [
        "lat"
      ],
      "metadata": {
        "colab": {
          "base_uri": "https://localhost:8080/"
        },
        "id": "5ZaXO8-Uw5ph",
        "outputId": "a25f9a1b-19c8-41df-afb7-e193f2d1c1ab"
      },
      "execution_count": 72,
      "outputs": [
        {
          "output_type": "execute_result",
          "data": {
            "text/plain": [
              "33.90915665"
            ]
          },
          "metadata": {},
          "execution_count": 72
        }
      ]
    },
    {
      "cell_type": "code",
      "source": [
        "arr.dtype"
      ],
      "metadata": {
        "colab": {
          "base_uri": "https://localhost:8080/"
        },
        "id": "yUygW9_QxevE",
        "outputId": "3c14fde7-c450-47d8-8fd9-893906e7bd0c"
      },
      "execution_count": 73,
      "outputs": [
        {
          "output_type": "execute_result",
          "data": {
            "text/plain": [
              "dtype('float64')"
            ]
          },
          "metadata": {},
          "execution_count": 73
        }
      ]
    },
    {
      "cell_type": "code",
      "source": [
        "arr2 = np.array([2,7,8,9])"
      ],
      "metadata": {
        "id": "PygpFaaGuwbo"
      },
      "execution_count": 74,
      "outputs": []
    },
    {
      "cell_type": "code",
      "source": [
        "arr3 = [2,7,8,9]"
      ],
      "metadata": {
        "id": "0C-KZKMfu5zD"
      },
      "execution_count": 75,
      "outputs": []
    },
    {
      "cell_type": "code",
      "source": [
        "type(arr3)"
      ],
      "metadata": {
        "colab": {
          "base_uri": "https://localhost:8080/"
        },
        "id": "1PkDE7H5u_DA",
        "outputId": "5078db95-2335-466b-cfdf-4b5fd1ad1821"
      },
      "execution_count": 76,
      "outputs": [
        {
          "output_type": "execute_result",
          "data": {
            "text/plain": [
              "list"
            ]
          },
          "metadata": {},
          "execution_count": 76
        }
      ]
    },
    {
      "cell_type": "code",
      "source": [
        "arr.shape"
      ],
      "metadata": {
        "colab": {
          "base_uri": "https://localhost:8080/"
        },
        "id": "YPoBYtAQvKLJ",
        "outputId": "bbb11e02-15ee-4cbd-9894-151692b5d7be"
      },
      "execution_count": 77,
      "outputs": [
        {
          "output_type": "execute_result",
          "data": {
            "text/plain": [
              "(5,)"
            ]
          },
          "metadata": {},
          "execution_count": 77
        }
      ]
    },
    {
      "cell_type": "code",
      "source": [
        "arr2.shape"
      ],
      "metadata": {
        "colab": {
          "base_uri": "https://localhost:8080/"
        },
        "id": "GOTP19WLvgDk",
        "outputId": "86e35dfb-6099-4928-e9ec-f95fb8103bb5"
      },
      "execution_count": 78,
      "outputs": [
        {
          "output_type": "execute_result",
          "data": {
            "text/plain": [
              "(4,)"
            ]
          },
          "metadata": {},
          "execution_count": 78
        }
      ]
    },
    {
      "cell_type": "code",
      "source": [
        "type(arr2)"
      ],
      "metadata": {
        "colab": {
          "base_uri": "https://localhost:8080/"
        },
        "id": "QgO3Sac4u0aA",
        "outputId": "043b0f53-d37d-43a2-e444-64f9c71327d9"
      },
      "execution_count": 79,
      "outputs": [
        {
          "output_type": "execute_result",
          "data": {
            "text/plain": [
              "numpy.ndarray"
            ]
          },
          "metadata": {},
          "execution_count": 79
        }
      ]
    },
    {
      "cell_type": "code",
      "source": [],
      "metadata": {
        "id": "torWoK61vfWf"
      },
      "execution_count": 79,
      "outputs": []
    },
    {
      "cell_type": "code",
      "source": [
        "type(arr)"
      ],
      "metadata": {
        "colab": {
          "base_uri": "https://localhost:8080/"
        },
        "id": "JnIU9JeyuT-g",
        "outputId": "0d293663-348c-404e-ce01-7eaad3dac9e8"
      },
      "execution_count": 80,
      "outputs": [
        {
          "output_type": "execute_result",
          "data": {
            "text/plain": [
              "numpy.ndarray"
            ]
          },
          "metadata": {},
          "execution_count": 80
        }
      ]
    },
    {
      "cell_type": "code",
      "source": [
        "arr"
      ],
      "metadata": {
        "colab": {
          "base_uri": "https://localhost:8080/"
        },
        "id": "_xnBA0F9uYJ_",
        "outputId": "147d7f36-78d0-4347-eace-233fa81a9321"
      },
      "execution_count": 81,
      "outputs": [
        {
          "output_type": "execute_result",
          "data": {
            "text/plain": [
              "array([33.90915665,  2.        ,  7.        ,  8.        ,  9.        ])"
            ]
          },
          "metadata": {},
          "execution_count": 81
        }
      ]
    },
    {
      "cell_type": "code",
      "source": [
        "arr"
      ],
      "metadata": {
        "id": "ibj_LmmEtEyA",
        "colab": {
          "base_uri": "https://localhost:8080/"
        },
        "outputId": "748295d6-89d3-4bd0-d5a4-71570cc866d9"
      },
      "execution_count": 82,
      "outputs": [
        {
          "output_type": "execute_result",
          "data": {
            "text/plain": [
              "array([33.90915665,  2.        ,  7.        ,  8.        ,  9.        ])"
            ]
          },
          "metadata": {},
          "execution_count": 82
        }
      ]
    },
    {
      "cell_type": "code",
      "source": [
        "# House Preice Prediction Pipeline- way:1\n",
        "def HousePrice(strn, arr):\n",
        "\n",
        "  lat, lon = LatLon(strn)\n",
        "\n",
        "  arr = np.insert(arr, 0, lat)\n",
        "  arr = np.insert(arr, 0, lon)\n",
        "  #print(arr.reshape((1,6)).shape)\n",
        "  #knn = KNNClassifier()\n",
        "  category = knn.predict([arr], 7)\n",
        "\n",
        "  arr =np.append([arr],category)\n",
        "\n",
        "  # MVLinearRegression\n",
        "  y_hat = mvlr.predict([arr])\n",
        "\n",
        "  return y_hat\n",
        "\n"
      ],
      "metadata": {
        "id": "ZhC2Thj1pwQL"
      },
      "execution_count": 84,
      "outputs": []
    },
    {
      "cell_type": "code",
      "source": [
        "x_inf = np.array([[0.39,30,2580,6]], dtype = float)"
      ],
      "metadata": {
        "id": "EkfCIFkAzRjQ"
      },
      "execution_count": 86,
      "outputs": []
    },
    {
      "cell_type": "code",
      "source": [
        "HousePrice(strn = \"1785 the exchange se, atlanta\", arr = x_inf )"
      ],
      "metadata": {
        "colab": {
          "base_uri": "https://localhost:8080/"
        },
        "id": "YX6bk3OczJQd",
        "outputId": "00550efc-4182-41b5-a037-8eb9574f0a7b"
      },
      "execution_count": 87,
      "outputs": [
        {
          "output_type": "execute_result",
          "data": {
            "text/plain": [
              "array([538319.5780923])"
            ]
          },
          "metadata": {},
          "execution_count": 87
        }
      ]
    },
    {
      "cell_type": "code",
      "source": [
        "#  House Preice Prediction Pipeline- way:2\n",
        "def HousePrice(strn, arr):\n",
        "\n",
        "  lat, lon = LatLon(strn)\n",
        "\n",
        "  arr = np.insert(arr, 0, lat)\n",
        "  arr = np.insert(arr, 0, lon).reshape(1,6)\n",
        "  #print(arr.reshape((1,6)).shape)\n",
        "  #knn = KNNClassifier()\n",
        "  category = knn.predict(arr, 50)\n",
        "\n",
        "  arr =np.append(arr,category)\n",
        "\n",
        "  # MVLinearRegression\n",
        "  y_hat = mvlr.predict(arr)\n",
        "\n",
        "  return y_hat"
      ],
      "metadata": {
        "id": "Os32BL0AzQn8"
      },
      "execution_count": 88,
      "outputs": []
    },
    {
      "cell_type": "code",
      "source": [
        "HousePrice(strn = \"1785 the exchange se, atlanta\", arr = x_inf )"
      ],
      "metadata": {
        "colab": {
          "base_uri": "https://localhost:8080/"
        },
        "id": "gBXczzZW2ZTg",
        "outputId": "4f1bbef8-3564-4b4f-dded-7a355ec4a6df"
      },
      "execution_count": 92,
      "outputs": [
        {
          "output_type": "execute_result",
          "data": {
            "text/plain": [
              "822716.0292983786"
            ]
          },
          "metadata": {},
          "execution_count": 92
        }
      ]
    },
    {
      "cell_type": "code",
      "source": [
        "# Predict the house Price"
      ],
      "metadata": {
        "id": "s0lOjb4Rlza0"
      },
      "execution_count": 91,
      "outputs": []
    },
    {
      "cell_type": "code",
      "source": [
        "# ['lot_acres','house_age','sqrt_ft','rooms']\n",
        "x_inf = np.array([[0.84,17,3945,8]], dtype = float)"
      ],
      "metadata": {
        "id": "pCLi-FbS2aQx"
      },
      "execution_count": 89,
      "outputs": []
    },
    {
      "cell_type": "code",
      "source": [
        "HousePrice(strn = \"2931 E Mabel St\", arr = x_inf )"
      ],
      "metadata": {
        "colab": {
          "base_uri": "https://localhost:8080/"
        },
        "id": "oxw7ApvGlwvh",
        "outputId": "33b53765-dbb8-4494-b448-e07d2d7da6a3"
      },
      "execution_count": 90,
      "outputs": [
        {
          "output_type": "execute_result",
          "data": {
            "text/plain": [
              "822139.5222102391"
            ]
          },
          "metadata": {},
          "execution_count": 90
        }
      ]
    }
  ]
}